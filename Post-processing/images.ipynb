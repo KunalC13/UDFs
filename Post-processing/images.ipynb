{
 "cells": [
  {
   "cell_type": "code",
   "execution_count": 9,
   "metadata": {},
   "outputs": [
    {
     "name": "stdout",
     "output_type": "stream",
     "text": [
      "Extracted 8 frames from the video.\n"
     ]
    }
   ],
   "source": [
    "import cv2\n",
    "import os\n",
    "\n",
    "video_path = 'vf_1100.mpeg'\n",
    "\n",
    "output_dir = 'vf_1100'\n",
    "if not os.path.exists(output_dir):\n",
    "    os.makedirs(output_dir)\n",
    "\n",
    "\n",
    "frame_interval = 50 \n",
    "\n",
    "\n",
    "cap = cv2.VideoCapture(video_path)\n",
    "\n",
    "frame_count = 0 \n",
    "extracted_count = 0  \n",
    "\n",
    "while True:\n",
    "    success, frame = cap.read()\n",
    "    if not success:\n",
    "        break \n",
    "    \n",
    "\n",
    "    if frame_count % frame_interval == 0:\n",
    "      \n",
    "        output_filename = os.path.join(output_dir, f'frame_{extracted_count}.jpg')\n",
    "        cv2.imwrite(output_filename, frame)\n",
    "        extracted_count += 1\n",
    "    \n",
    "    frame_count += 1\n",
    "\n",
    "cap.release()  \n",
    "\n",
    "print(f\"Extracted {extracted_count} frames from the video.\")\n"
   ]
  },
  {
   "cell_type": "code",
   "execution_count": 5,
   "metadata": {},
   "outputs": [],
   "source": [
    "import os\n",
    "from PIL import Image\n",
    "\n",
    "image_directory = 'images'\n",
    "image_files = [os.path.join(image_directory, f) for f in os.listdir(image_directory) if f.endswith('.jpg')]\n",
    "\n",
    "\n",
    "image_files.sort()\n",
    "\n",
    "images = [Image.open(img) for img in image_files]\n",
    "widths, heights = zip(*(i.size for i in images))\n",
    "\n",
    "max_width = max(widths)\n",
    "max_height = max(heights)\n",
    "\n",
    "\n",
    "images_per_row = 2\n",
    "num_rows = (len(images) + images_per_row - 1) // images_per_row  \n",
    "\n",
    "\n",
    "combined_img = Image.new('RGB', (max_width * images_per_row, max_height * num_rows), 'white')\n",
    "\n",
    "for i, img in enumerate(images):\n",
    "    x = i % images_per_row * max_width\n",
    "    y = i // images_per_row * max_height\n",
    "    combined_img.paste(img, (x, y))\n",
    "\n",
    "\n",
    "combined_image_path = os.path.join(image_directory, 'combined_image_2x2.jpg')\n",
    "combined_img.save(combined_image_path)\n",
    "combined_img.show()"
   ]
  },
  {
   "cell_type": "code",
   "execution_count": null,
   "metadata": {},
   "outputs": [],
   "source": []
  }
 ],
 "metadata": {
  "kernelspec": {
   "display_name": "base",
   "language": "python",
   "name": "python3"
  },
  "language_info": {
   "codemirror_mode": {
    "name": "ipython",
    "version": 3
   },
   "file_extension": ".py",
   "mimetype": "text/x-python",
   "name": "python",
   "nbconvert_exporter": "python",
   "pygments_lexer": "ipython3",
   "version": "3.9.13"
  }
 },
 "nbformat": 4,
 "nbformat_minor": 2
}
